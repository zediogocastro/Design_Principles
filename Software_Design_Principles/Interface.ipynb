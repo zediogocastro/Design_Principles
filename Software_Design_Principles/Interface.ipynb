{
 "cells": [
  {
   "cell_type": "markdown",
   "metadata": {},
   "source": [
    "# Programm Interface"
   ]
  },
  {
   "cell_type": "code",
   "execution_count": 2,
   "metadata": {},
   "outputs": [],
   "source": [
    "from abc import ABC, abstractmethod\n",
    "from typing import List"
   ]
  },
  {
   "cell_type": "markdown",
   "metadata": {},
   "source": [
    "## Defining the Employee Interface and Concrete Classes"
   ]
  },
  {
   "cell_type": "code",
   "execution_count": 4,
   "metadata": {},
   "outputs": [],
   "source": [
    "class Employee(ABC):\n",
    "    @abstractmethod\n",
    "    def do_work(self):\n",
    "        pass\n",
    "\n",
    "\n",
    "class Designer(Employee):\n",
    "    def do_work(self):\n",
    "        print(\"Designing architecture.\")\n",
    "\n",
    "\n",
    "class Programmer(Employee):\n",
    "    def do_work(self):\n",
    "        print(\"Coding\")\n",
    "\n",
    "\n"
   ]
  },
  {
   "cell_type": "markdown",
   "metadata": {},
   "source": [
    "## Defining the Initial Company Class with Direct Dependencies"
   ]
  },
  {
   "cell_type": "code",
   "execution_count": 8,
   "metadata": {},
   "outputs": [],
   "source": [
    "class Company:\n",
    "    def __init__(self):\n",
    "        self.employees: List[Employee] = [Designer(), Programmer(), Programmer()]\n",
    "\n",
    "    def create_software(self):\n",
    "        for employee in self.employees:\n",
    "            employee.do_work()"
   ]
  },
  {
   "cell_type": "code",
   "execution_count": 9,
   "metadata": {},
   "outputs": [
    {
     "name": "stdout",
     "output_type": "stream",
     "text": [
      "Designing architecture.\n",
      "Coding\n",
      "Coding\n"
     ]
    }
   ],
   "source": [
    "# Example calling\n",
    "FRAUDIO = Company()\n",
    "FRAUDIO.create_software()"
   ]
  },
  {
   "cell_type": "markdown",
   "metadata": {},
   "source": [
    "In this case the interface `Employee` enables us to apply polymorphism inside the `Company` class, treating various employee objects via the `Employee` interface.\n",
    "\n",
    "⚠️ **But** the `Company` class *still depends on the concrete employee classes.*\n",
    "* This is bad because if we introduce new types of companies that work with other types of employees, we’ll need to over- ride most of the Company class instead of reusing that code.\n",
    "\n",
    "Here is an example:\n",
    "\n",
    "-> Suppose you want to introduce a new type of company, StartupCompany, that requires a different set of employees, say Marketer and Recruiter. Here's how the current design forces us to override or extend most of the Company class to accommodate this new requirement:"
   ]
  },
  {
   "cell_type": "code",
   "execution_count": 10,
   "metadata": {},
   "outputs": [
    {
     "name": "stdout",
     "output_type": "stream",
     "text": [
      "Creating Marketing Campaigns.\n",
      "Recruiting new talent.\n"
     ]
    }
   ],
   "source": [
    "class Marketer(Employee):\n",
    "    def do_work(self):\n",
    "        print('Creating Marketing Campaigns.')\n",
    "\n",
    "class Recruiter(Employee):\n",
    "    def do_work(self):\n",
    "        print('Recruiting new talent.')\n",
    "\n",
    "class Startup(Company):\n",
    "    def __init__(self):\n",
    "        self.employees: List[Employee] = [Marketer(), Recruiter()]\n",
    "\n",
    "my_startup = Startup()\n",
    "my_startup.create_software()"
   ]
  },
  {
   "cell_type": "markdown",
   "metadata": {},
   "source": [
    "The problem with this approach is clear, we need to implement a new subclass of `Compay` and override the constructor to instantiate the specific types of employees we need. "
   ]
  },
  {
   "cell_type": "markdown",
   "metadata": {},
   "source": [
    "## Refactoring the Company Class to Use an Abstract Method"
   ]
  },
  {
   "cell_type": "code",
   "execution_count": 27,
   "metadata": {},
   "outputs": [],
   "source": [
    "class Company(ABC):\n",
    "    def __init__(self):\n",
    "        print('Initializig Company!')\n",
    "\n",
    "    @abstractmethod\n",
    "    def get_employees(self) -> List[Employee]:\n",
    "        pass\n",
    "\n",
    "    def create_software(self):\n",
    "        employees = self.get_employees()\n",
    "        for employee in employees:\n",
    "            employee.do_work()"
   ]
  },
  {
   "cell_type": "code",
   "execution_count": 34,
   "metadata": {},
   "outputs": [],
   "source": [
    "# 2 concrete subclasses of Company that implement the abstract method\n",
    "class GameDevCompany(Company):\n",
    "    def __init__(self):\n",
    "        super().__init__()\n",
    "        print(\"GAME\")\n",
    "\n",
    "    def get_employees(self) -> List[Employee]:\n",
    "        return [Designer(), Programmer()]\n",
    "    \n",
    "class OutsourcingCompany(Company):\n",
    "    def get_employees(self) -> List[Employee]:\n",
    "        return [Programmer(), Programmer(), Programmer()]"
   ]
  },
  {
   "cell_type": "code",
   "execution_count": 35,
   "metadata": {},
   "outputs": [
    {
     "name": "stdout",
     "output_type": "stream",
     "text": [
      "GAME\n",
      "Designing architecture.\n",
      "Coding\n",
      "Initializig Company!\n",
      "Coding\n",
      "Coding\n",
      "Coding\n"
     ]
    }
   ],
   "source": [
    "xbox = GameDevCompany()\n",
    "xbox.create_software()\n",
    "\n",
    "edp = OutsourcingCompany()\n",
    "edp.create_software()"
   ]
  }
 ],
 "metadata": {
  "kernelspec": {
   "display_name": "deep",
   "language": "python",
   "name": "deep"
  },
  "language_info": {
   "codemirror_mode": {
    "name": "ipython",
    "version": 3
   },
   "file_extension": ".py",
   "mimetype": "text/x-python",
   "name": "python",
   "nbconvert_exporter": "python",
   "pygments_lexer": "ipython3",
   "version": "3.8.18"
  }
 },
 "nbformat": 4,
 "nbformat_minor": 2
}
