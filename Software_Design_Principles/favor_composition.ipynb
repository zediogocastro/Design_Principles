{
 "cells": [
  {
   "cell_type": "markdown",
   "metadata": {},
   "source": [
    "# Favor Composition Over Inheritance\n",
    "\n",
    "* **inheritance:** a car is a transport \n",
    "* **composition:** a car has an engine"
   ]
  },
  {
   "cell_type": "markdown",
   "metadata": {},
   "source": [
    "## Using Inheritance\n",
    "\n",
    "<img src=\"images/inheritance.jpg\">"
   ]
  },
  {
   "cell_type": "code",
   "execution_count": 2,
   "metadata": {},
   "outputs": [],
   "source": [
    "class Vehicle:\n",
    "    def start_engine(self):\n",
    "        print(\"Engine started\")\n",
    "\n",
    "class Car(Vehicle):\n",
    "    def open_truck(self):\n",
    "        print(\"Truk opened\")\n",
    "\n",
    "class ElectricCar(Car):\n",
    "    def charge_batery(self):\n",
    "        print(\"Battery charging\")\n",
    "\n",
    "class AutopilotElectricCar(ElectricCar):\n",
    "    def engage_autopilot(self):\n",
    "        print(\"Autopilot egaged!\")"
   ]
  },
  {
   "cell_type": "markdown",
   "metadata": {},
   "source": [
    "This works fine until we need an electric truck with autopilot, which would require creating another subclass. If we continue, we'll end up with many subclasses for each combination of features."
   ]
  },
  {
   "cell_type": "code",
   "execution_count": 17,
   "metadata": {},
   "outputs": [],
   "source": [
    "class Truck(Vehicle):\n",
    "    def has_six_wheels(self):\n",
    "        print(\"This truck has six wheels.\")\n",
    "\n",
    "class ElectricTruck(Truck, ElectricCar):\n",
    "    def charge_batery(self):\n",
    "        print(\"Battery charging v2\")"
   ]
  },
  {
   "cell_type": "code",
   "execution_count": 20,
   "metadata": {},
   "outputs": [
    {
     "name": "stdout",
     "output_type": "stream",
     "text": [
      "Battery charging\n"
     ]
    }
   ],
   "source": [
    "tesla_semi = ElectricTruck()\n",
    "tesla_semi.charge_batery()"
   ]
  },
  {
   "cell_type": "markdown",
   "metadata": {},
   "source": [
    "## Using Composition\n",
    "\n",
    "<img src=\"images/composition.jpg\">"
   ]
  },
  {
   "cell_type": "code",
   "execution_count": 38,
   "metadata": {},
   "outputs": [],
   "source": [
    "from abc import ABC, abstractmethod\n",
    "\n",
    "# Engine Interface\n",
    "class Engine(ABC):\n",
    "    @abstractmethod\n",
    "    def move(self):\n",
    "        pass\n",
    "\n",
    "# Concrete Engine implementation\n",
    "class CombustionEngine(Engine):\n",
    "    def move(self):\n",
    "        print(\"Brum, brum ⛽️\")\n",
    "\n",
    "class ElectricEngine(Engine):\n",
    "    def move(self):\n",
    "        print(\"Vvvvv 💨\")\n",
    "\n",
    "# Driver interface\n",
    "class Driver(ABC):\n",
    "    @abstractmethod\n",
    "    def navigate(self):\n",
    "        pass\n",
    "\n",
    "# Concrete Driver implementations\n",
    "class Robot(Driver):\n",
    "    def navigate(self):\n",
    "        print(\"Robot is navigating.\")\n",
    "\n",
    "class Human(Driver):\n",
    "    def navigate(self):\n",
    "        print(\"Human is navigating.\")\n",
    "\n",
    "class Transport:\n",
    "    def __init__(self, engine: Engine, driver: Driver):\n",
    "        self.engine = engine\n",
    "        self.driver = driver\n",
    "\n",
    "    def deliver(self, destination, cargo):\n",
    "        self.driver.navigate()\n",
    "        self.engine.move()\n",
    "        print(f\"Delivering {cargo} to {destination}\")    "
   ]
  },
  {
   "cell_type": "code",
   "execution_count": 42,
   "metadata": {},
   "outputs": [
    {
     "name": "stdout",
     "output_type": "stream",
     "text": [
      "Robot is navigating.\n",
      "Brum, brum ⛽️\n",
      "Delivering electronics to Amsterdam\n"
     ]
    }
   ],
   "source": [
    "honda_motor = CombustionEngine()\n",
    "robot_driver = Robot()\n",
    "\n",
    "truck = Transport(honda_motor, robot_driver)\n",
    "truck.deliver('Amsterdam', 'electronics')"
   ]
  }
 ],
 "metadata": {
  "kernelspec": {
   "display_name": "deep",
   "language": "python",
   "name": "deep"
  },
  "language_info": {
   "codemirror_mode": {
    "name": "ipython",
    "version": 3
   },
   "file_extension": ".py",
   "mimetype": "text/x-python",
   "name": "python",
   "nbconvert_exporter": "python",
   "pygments_lexer": "ipython3",
   "version": "3.8.18"
  }
 },
 "nbformat": 4,
 "nbformat_minor": 2
}
